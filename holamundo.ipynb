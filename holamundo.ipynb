{
  "nbformat": 4,
  "nbformat_minor": 0,
  "metadata": {
    "colab": {
      "name": "holamundo.ipynb",
      "provenance": []
    },
    "kernelspec": {
      "name": "python3",
      "display_name": "Python 3"
    },
    "language_info": {
      "name": "python"
    }
  },
  "cells": [
    {
      "cell_type": "code",
      "execution_count": 1,
      "metadata": {
        "colab": {
          "base_uri": "https://localhost:8080/"
        },
        "id": "LHQBUhuNVtiO",
        "outputId": "bc3b1b0e-4cdf-4d00-86ad-b9d975ab4d71"
      },
      "outputs": [
        {
          "output_type": "stream",
          "name": "stdout",
          "text": [
            "¡hola mundo!\n"
          ]
        }
      ],
      "source": [
        "a=(\"¡hola mundo!\")\n",
        "print(a)"
      ]
    }
  ]
}