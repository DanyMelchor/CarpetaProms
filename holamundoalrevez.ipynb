{
  "nbformat": 4,
  "nbformat_minor": 0,
  "metadata": {
    "colab": {
      "name": "holamundoalrevez.ipynb",
      "provenance": []
    },
    "kernelspec": {
      "name": "python3",
      "display_name": "Python 3"
    },
    "language_info": {
      "name": "python"
    }
  },
  "cells": [
    {
      "cell_type": "code",
      "execution_count": null,
      "metadata": {
        "colab": {
          "base_uri": "https://localhost:8080/"
        },
        "id": "TMN8hvqy_D78",
        "outputId": "51c46917-593c-4593-8540-b42012030819"
      },
      "outputs": [
        {
          "output_type": "stream",
          "name": "stdout",
          "text": [
            "['O', 'D', 'N', 'U', 'M', 'A', 'L', 'O', 'H']\n"
          ]
        }
      ],
      "source": [
        "J=8\n",
        "\n",
        "A1=['H','O','L','A','M','U','N','D','O']\n",
        "\n",
        "for i in range(0,5):\n",
        "  \n",
        "  v1=A1[J]\n",
        "  A1[J]=A1[i]\n",
        "  A1[i]=v1\n",
        "  J=J-1\n",
        "\n",
        "print(A1)"
      ]
    }
  ]
}