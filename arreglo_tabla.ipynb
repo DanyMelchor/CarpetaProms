{
  "nbformat": 4,
  "nbformat_minor": 0,
  "metadata": {
    "colab": {
      "name": "arreglo/tabla.ipynb",
      "provenance": []
    },
    "kernelspec": {
      "name": "python3",
      "display_name": "Python 3"
    },
    "language_info": {
      "name": "python"
    }
  },
  "cells": [
    {
      "cell_type": "code",
      "execution_count": null,
      "metadata": {
        "id": "Ph3eKfUBi901",
        "colab": {
          "base_uri": "https://localhost:8080/"
        },
        "outputId": "8da79437-3f39-4a3f-9006-5e375c2b14bc"
      },
      "outputs": [
        {
          "output_type": "stream",
          "name": "stdout",
          "text": [
            "ingrese el numero de la tabla a consultar: 5\n",
            "5 5\n",
            "10 10\n",
            "15 15\n",
            "20 20\n",
            "25 25\n",
            "30 30\n",
            "35 35\n",
            "40 40\n",
            "45 45\n",
            "50 50\n"
          ]
        }
      ],
      "source": [
        "A1=[]\n",
        "Num=int(input(\"ingrese el numero de la tabla a consultar: \"))\n",
        "for i in range (0,10):\n",
        "  tab=Num*(i+1)\n",
        "  A1.append(tab)\n",
        "\n",
        "  print(tab, A1[i])"
      ]
    }
  ]
}