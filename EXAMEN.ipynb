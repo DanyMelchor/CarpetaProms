{
  "nbformat": 4,
  "nbformat_minor": 0,
  "metadata": {
    "colab": {
      "name": "EXAMEN.ipynb",
      "provenance": []
    },
    "kernelspec": {
      "name": "python3",
      "display_name": "Python 3"
    },
    "language_info": {
      "name": "python"
    }
  },
  "cells": [
    {
      "cell_type": "code",
      "execution_count": null,
      "metadata": {
        "colab": {
          "base_uri": "https://localhost:8080/"
        },
        "id": "6iSGtJMMHRsb",
        "outputId": "edb213d6-cac0-466c-a6de-a5811cdd7e30"
      },
      "outputs": [
        {
          "output_type": "stream",
          "name": "stdout",
          "text": [
            "Ingresa un numero cualquiera: 21\n",
            "Ingresa un numero cualquiera: 4\n",
            "Ingresa un numero cualquiera: 23\n",
            "Ingresa un numero cualquiera: 54\n",
            "Ingresa un numero cualquiera: 23\n",
            "Ingresa un numero cualquiera: 54\n",
            "Ingresa un numero cualquiera: 89\n",
            "Ingresa un numero cualquiera: 89\n",
            "Ingresa un numero cualquiera: 78\n",
            "Ingresa un numero cualquiera: 45\n",
            "Ingresa un numero cualquiera: 87\n",
            "Ingresa un numero cualquiera: 45\n",
            "Ingresa un numero cualquiera: 9\n",
            "Ingresa un numero cualquiera: 8\n",
            "Ingresa un numero cualquiera: 7\n",
            "Ingresa un numero cualquiera: 4\n",
            "Ingresa un numero cualquiera: 4\n",
            "Ingresa un numero cualquiera: 3\n",
            "Ingresa un numero cualquiera: 12\n",
            "Ingresa un numero cualquiera: 34\n",
            "Ingresa un numero cualquiera: 3\n",
            "Ingresa un numero cualquiera: 1\n",
            "Ingresa un numero cualquiera: 12\n",
            "Ingresa un numero cualquiera: 56\n",
            "Ingresa un numero cualquiera: 98\n",
            "Ingresa un numero cualquiera: 65\n",
            "Ingresa un numero cualquiera: 09\n",
            "Ingresa un numero cualquiera: 65\n",
            "Ingresa un numero cualquiera: 45\n",
            "Ingresa un numero cualquiera: 87\n",
            "Ingresa un numero cualquiera: 54\n",
            "Ingresa un numero cualquiera: 09\n",
            "Ingresa un numero cualquiera: 76\n",
            "Ingresa un numero cualquiera: 65\n",
            "Ingresa un numero cualquiera: 54\n",
            "Ingresa un numero cualquiera: 87\n",
            "Ingresa un numero cualquiera: 54\n",
            "Ingresa un numero cualquiera: 76\n",
            "Ingresa un numero cualquiera: 45\n",
            "Ingresa un numero cualquiera: 87\n",
            "Ingresa un numero cualquiera: 76\n",
            "Ingresa un numero cualquiera: 98\n",
            "Ingresa un numero cualquiera: 54\n",
            "Ingresa un numero cualquiera: 34\n",
            "Ingresa un numero cualquiera: 23\n",
            "Ingresa un numero cualquiera: 12\n",
            "Ingresa un numero cualquiera: 23\n",
            "Ingresa un numero cualquiera: 45\n",
            "Ingresa un numero cualquiera: 67\n",
            "Ingresa un numero cualquiera: 98\n",
            "Ingresa un numero cualquiera: 76\n",
            " \n",
            "--arreglo segun el usuario--\n",
            "[21, 4, 23, 54, 23, 54, 89, 89, 78, 45, 87, 45, 9, 8, 7, 4, 4, 3, 12, 34, 3, 1, 12, 56, 98, 65, 9, 65, 45, 87, 54, 9, 76, 65, 54, 87, 54, 76, 45, 87, 76, 98, 54, 34, 23, 12, 23, 45, 67, 98, 76]\n",
            " \n",
            "--arreglo de mayor a menor--\n",
            "[98, 98, 98, 89, 89, 87, 87, 87, 87, 78, 76, 76, 76, 76, 67, 65, 65, 65, 56, 54, 54, 54, 54, 54, 54, 45, 45, 45, 45, 45, 34, 34, 23, 23, 23, 23, 21, 12, 12, 12, 9, 9, 9, 8, 7, 4, 4, 4, 3, 3, 1]\n",
            " \n",
            "--arreglo de menor a mayor--\n",
            "[1, 3, 3, 4, 4, 4, 7, 8, 9, 9, 9, 12, 12, 12, 21, 23, 23, 23, 23, 34, 34, 45, 45, 45, 45, 45, 54, 54, 54, 54, 54, 54, 56, 65, 65, 65, 67, 76, 76, 76, 76, 78, 87, 87, 87, 87, 89, 89, 98, 98, 98]\n"
          ]
        }
      ],
      "source": [
        "AR=[]\n",
        "lar=50\n",
        "for i in range(0,51):\n",
        "  AR.append(int(input(\"Ingresa un numero cualquiera: \")))\n",
        "print(\" \")\n",
        "print(\"--arreglo segun el usuario--\")\n",
        "print(AR)\n",
        "for i in range(1,51):\n",
        "  for h in range(0,51-i):\n",
        "    if(AR[h]<AR[h+1]):\n",
        "      var=AR[h]\n",
        "      AR[h]=AR[h+1]\n",
        "      AR[h+1]=var\n",
        "print(\" \")\n",
        "print(\"--arreglo de mayor a menor--\")\n",
        "print(AR)\n",
        "for i in range(0,26):\n",
        "  Var=AR[lar]\n",
        "  AR[lar]=AR[i]\n",
        "  AR[i]=Var\n",
        "  lar=lar-1\n",
        "print(\" \")\n",
        "print(\"--arreglo de menor a mayor--\")\n",
        "print(AR)"
      ]
    }
  ]
}