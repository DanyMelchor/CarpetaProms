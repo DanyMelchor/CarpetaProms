{
  "nbformat": 4,
  "nbformat_minor": 0,
  "metadata": {
    "colab": {
      "name": "EXAMEN REGULAR .ipynb",
      "provenance": []
    },
    "kernelspec": {
      "name": "python3",
      "display_name": "Python 3"
    },
    "language_info": {
      "name": "python"
    }
  },
  "cells": [
    {
      "cell_type": "code",
      "execution_count": null,
      "metadata": {
        "colab": {
          "base_uri": "https://localhost:8080/"
        },
        "id": "X1BwmN1NE9zs",
        "outputId": "36c7ce35-f14b-4d2a-a1ac-ef09f23c244f"
      },
      "outputs": [
        {
          "name": "stdout",
          "output_type": "stream",
          "text": [
            "cuantos datos de los equipos se contemplaran: 2\n",
            "cuantos equipos se compilaran: 2\n"
          ]
        }
      ],
      "source": [
        "datos=(int(input(\"cuantos datos de los equipos se contemplaran: \")))\n",
        "equi=(int(input(\"cuantos equipos se compilaran: \")))\n",
        "\n",
        "M=\"[i][j]\"\n",
        "H=\"[i][j]\"\n",
        "A=[]\n",
        "\n",
        "valor=\"\"\n",
        "\n",
        "for i in range(equi):\n",
        "  A.append([0]*datos)\n",
        "\n",
        "for i in range(equi):\n",
        "  for j in range(datos):\n",
        "\n",
        "     if(j==0):\n",
        "      valor=\"nombre del equipo: \"\n",
        "     elif(j==1):\n",
        "      valor=\"pais que representa: \"\n",
        "    \n",
        "      A[i][j]=input(\"introduzca el dato de \"+valor+ \": \" )"
      ]
    },
    {
      "cell_type": "code",
      "source": [
        "cate=(int(input(\"cuantas categorias se contemplaran: \")))\n",
        "#pones 2 (pais y nombre del equipo)\n",
        "equi=(int(input(\"cuantos equipos se compilaran: \")))\n",
        "#cuantos equipos seran\n",
        "\n",
        "A=[]\n",
        "\n",
        "valor=\"\"\n",
        "\n",
        "for i in range(equi):\n",
        "  A.append([0]*cate)\n",
        "\n",
        "for i in range(equi):\n",
        "  for j in range(cate):\n",
        "\n",
        "    if (j==0):\n",
        "      valor=\"pais a representar: \"\n",
        "    elif(j==1):\n",
        "      valor=\"nombre del equipo: \"\n",
        "\n",
        "\n",
        "    A[i][j]=input(\"introduzca el dato de \"+valor+ \": \" )\n",
        "\n",
        "\n",
        "#print(A)\n",
        " \n",
        "A.sort()\n",
        "#el .sort() es un comando para ordenar alfabeticamente \n",
        "\n",
        "print(A)\n",
        "\n"
      ],
      "metadata": {
        "colab": {
          "base_uri": "https://localhost:8080/"
        },
        "id": "yFyApjTgF1wI",
        "outputId": "0ef67491-544e-4ff6-9086-a7c35b0c1c68"
      },
      "execution_count": null,
      "outputs": [
        {
          "output_type": "stream",
          "name": "stdout",
          "text": [
            "cuantas categorias se contemplaran: 2\n",
            "cuantos equipos se compilaran: 3\n",
            "introduzca el dato de pais a representar: : guadalajara\n",
            "introduzca el dato de nombre del equipo: : chivas\n",
            "introduzca el dato de pais a representar: : jalisco\n",
            "introduzca el dato de nombre del equipo: : monarcas\n",
            "introduzca el dato de pais a representar: : queretaro\n",
            "introduzca el dato de nombre del equipo: : pumas\n",
            "[['guadalajara', 'chivas'], ['jalisco', 'monarcas'], ['queretaro', 'pumas']]\n"
          ]
        }
      ]
    },
    {
      "cell_type": "code",
      "source": [
        ""
      ],
      "metadata": {
        "id": "rCmdpawCLD-I"
      },
      "execution_count": null,
      "outputs": []
    }
  ]
}