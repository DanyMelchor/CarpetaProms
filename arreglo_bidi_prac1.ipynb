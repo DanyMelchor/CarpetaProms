{
  "nbformat": 4,
  "nbformat_minor": 0,
  "metadata": {
    "colab": {
      "name": "arreglo-bidi-prac1.ipynb",
      "provenance": [],
      "collapsed_sections": []
    },
    "kernelspec": {
      "name": "python3",
      "display_name": "Python 3"
    },
    "language_info": {
      "name": "python"
    }
  },
  "cells": [
    {
      "cell_type": "code",
      "execution_count": null,
      "metadata": {
        "id": "ZDT8vLJkR5Dg"
      },
      "outputs": [],
      "source": [
        "#MAL\n",
        "cat=(int(input(\"cuantas categorias se contemplaran: \")))\n",
        "alu=(int(input(\"los datos de cuantos alumnos se compilaran: \")))\n",
        "\n",
        "A=[]\n",
        "\n",
        "N=\"\"\n",
        "nom=\"\"\n",
        "cal=\"\"\n",
        "gen=\"\"\n",
        "\n",
        "for i in range(cat):\n",
        "  A.append([0]*alu)\n",
        "\n",
        "for i in range (cat):\n",
        "  if(i==0):\n",
        "    N=\"numero de control\"\n",
        "  elif(i==1):\n",
        "    nom=\"nombre del alumno\"\n",
        "  elif(i==2):\n",
        "    cal=\"calificacion\"\n",
        "  else:\n",
        "    gen=\"genero\" \n",
        "\n",
        "  for b in range (alu):\n",
        "    A[i][b]=input(\"introduzca los datos de \"+N+\": \" )\n",
        "      for c in range (alu):\n",
        "        A[i][c]=input(\"introduzca los datos de \"+nom+\": \" )\n",
        "        for d in range (alu):\n",
        "          A[i][d]=input(\"introduzca los datos de \"+cal+\": \" )\n",
        "          for e in range (alu):\n",
        "            A[i][e]=input(\"introduzca los datos de \"+gen+\": \" )\n",
        "\n",
        "print(A)\n"
      ]
    },
    {
      "cell_type": "code",
      "source": [
        "#MAL\n",
        "cat=(int(input(\"cuantas categorias se contemplaran: \")))\n",
        "alu=(int(input(\"los datos de cuantos alumnos se compilaran: \")))\n",
        "\n",
        "A=[]\n",
        "\n",
        "N=\"\"\n",
        "nom=\"\"\n",
        "cal=\"\"\n",
        "gen=\"\"\n",
        "\n",
        "for a in range(cat):\n",
        "  A.append([0]*alu)\n",
        "  if (a==0):\n",
        "    N=\"numero de control\"\n",
        "  else:\n",
        "    for b in range(cat+1):\n",
        "      if(b==0)\n",
        "      nom=\"ingrese el \""
      ],
      "metadata": {
        "id": "ovRpKoU7Y2R8"
      },
      "execution_count": null,
      "outputs": []
    },
    {
      "cell_type": "code",
      "source": [
        "#MAL\n",
        "cat=(int(input(\"cuantas categorias se contemplaran: \")))\n",
        "alu=(int(input(\"los datos de cuantos alumnos se compilaran: \")))\n",
        "\n",
        "A=[]\n",
        "\n",
        "N=\"\"\n",
        "nom=\"\"\n",
        "cal=\"\"\n",
        "gen=\"\"\n",
        "\n",
        "for i in range(cat):\n",
        "  A.append([0]*alu)\n",
        "\n",
        "for i in range (cat):\n",
        "  if(i==0):\n",
        "    N=\"numero de control\"\n",
        "    nom=\"\"\n",
        "    cal=\"\"\n",
        "    gen=\"\""
      ],
      "metadata": {
        "id": "CD76CDlobqYC"
      },
      "execution_count": null,
      "outputs": []
    },
    {
      "cell_type": "code",
      "source": [
        "#EL DIFINITIVO HASTA EL MOMENTO \n",
        "cat=(int(input(\"cuantas categorias se contemplaran: \")))\n",
        "alu=(int(input(\"los datos de cuantos alumnos se compilaran: \")))\n",
        "\n",
        "A=[]\n",
        "\n",
        "valor=\"\"\n",
        "\n",
        "for i in range(cat):\n",
        "  A.append([0]*alu)\n",
        "\n",
        "for i in range (cat):\n",
        "  if (i==0):\n",
        "    valor=\"numero de control\"\n",
        "  elif(i==1):\n",
        "    valor=\"nombre del alumno\"\n",
        "  elif(i==2):\n",
        "    valor=\"calificacion\"\n",
        "  else:\n",
        "    valor=\"genero\"\n",
        "\n",
        "  for j in range (alu):\n",
        "    A[i][j]=input(\"introduzca el dato de \"+valor+ \": \" )\n",
        "\n",
        "\n",
        "\n",
        "print(A)"
      ],
      "metadata": {
        "colab": {
          "base_uri": "https://localhost:8080/"
        },
        "id": "JCL-jtCdp5e4",
        "outputId": "44e0d10f-f293-41db-deec-2a32032c53a3"
      },
      "execution_count": null,
      "outputs": [
        {
          "output_type": "stream",
          "name": "stdout",
          "text": [
            "cuantas categorias se contemplaran: 4\n",
            "los datos de cuantos alumnos se compilaran: 2\n",
            "introduzca el dato de numero de control:100\n",
            "introduzca el dato de numero de control:101\n",
            "introduzca el dato de nombre del alumno:ale\n",
            "introduzca el dato de nombre del alumno:maria}\n",
            "introduzca el dato de calificacion:5\n",
            "introduzca el dato de calificacion:5\n",
            "introduzca el dato de genero:m\n",
            "introduzca el dato de genero:m\n",
            "[['100', '101'], ['ale', 'maria}'], ['5', '5'], ['m', 'm']]\n"
          ]
        }
      ]
    },
    {
      "cell_type": "code",
      "source": [
        "#PRUEBA\n",
        "cat=(int(input(\"cuantas categorias se contemplaran: \")))\n",
        "alu=(int(input(\"los datos de cuantos alumnos se compilaran: \")))\n",
        "\n",
        "A=[]\n",
        "valor=\"\"\n",
        "\n",
        "for i in range(cat):\n",
        "  A.append([0]*alu)\n",
        "\n",
        "for i in range (cat):\n",
        "  if (i==0):\n",
        "    valor=\"numero de control\"\n",
        "  elif(i==1):\n",
        "    valor=\"nombre del alumno\"\n",
        "  elif(i==2):\n",
        "    valor=\"calificacion\"\n",
        "  else:\n",
        "    valor=\"genero\"\n",
        "\n",
        "  for j in range (alu):\n",
        "    A[i][j]=input(\"introduzca el dato de \"+valor+ \": \" )\n",
        "\n",
        "print(A)"
      ],
      "metadata": {
        "id": "7MTbNxLy1E5r"
      },
      "execution_count": null,
      "outputs": []
    }
  ]
}