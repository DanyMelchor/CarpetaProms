{
  "nbformat": 4,
  "nbformat_minor": 0,
  "metadata": {
    "colab": {
      "name": "ARREGLO-BIDI-PROM.ipynb",
      "provenance": [],
      "collapsed_sections": []
    },
    "kernelspec": {
      "name": "python3",
      "display_name": "Python 3"
    },
    "language_info": {
      "name": "python"
    }
  },
  "cells": [
    {
      "cell_type": "code",
      "execution_count": null,
      "metadata": {
        "id": "ZL09wzEiL4_v"
      },
      "outputs": [],
      "source": [
        "cat=(int(input(\"cuantas categorias se contemplaran: \")))\n",
        "alu=(int(input(\"los datos de cuantos alumnos se compilaran: \")))\n",
        "\n",
        "M=\"[i][j]\"\n",
        "H=\"[i][j]\"\n",
        "suma=\"\"\n",
        "prom=\"\"\n",
        "A=[]\n",
        "\n",
        "valor=\"\"\n",
        "\n",
        "for i in range(alu):\n",
        "  A.append([0]*cat)\n",
        "\n",
        "for i in range(alu):\n",
        "  for j in range(cat):\n",
        "\n",
        "    if (j==0):\n",
        "      valor=\"numero de control\"\n",
        "    elif(j==1):\n",
        "      valor=\"nombre del alumno\"\n",
        "    elif(j==2):\n",
        "      valor=\"calificacion\"\n",
        "    elif(j==3):\n",
        "      valor=\"genero M/H\"\n",
        "\n",
        "    A[i][j]=input(\"introduzca el dato de \"+valor+ \": \" )\n",
        "\n",
        "\n",
        "print(A)\n",
        "\n",
        "Totalh=0\n",
        "Totalm=0\n",
        "Calh=0\n",
        "Calm=0\n",
        "Promedioh=0\n",
        "Promediom=0\n",
        "\n",
        "for i in range(0,alu):\n",
        "  #print(A[i][2]) #Calificaciones\n",
        "  #print(A[i][3]) #Gènero\n",
        "\n",
        "  if(A[i][3]=='H'):\n",
        "    Totalh=Totalh+1\n",
        "    Calh=Calh+int(A[i][2])\n",
        "\n",
        "  if(A[i][3]=='M'):\n",
        "    Totalm=Totalm+1\n",
        "    Calm=Calm+int(A[i][2])\n",
        "\n",
        "Promedioh=Calh/Totalh\n",
        "Promediom=Calm/Totalm\n",
        "\n",
        "print(Promedioh)\n",
        "\n",
        "print(Promediom)"
      ]
    }
  ]
}